{
  "nbformat": 4,
  "nbformat_minor": 0,
  "metadata": {
    "colab": {
      "name": "Untitled21.ipynb",
      "provenance": [],
      "authorship_tag": "ABX9TyMJ4D4/Tv7oO2bj0RYPpmJ/",
      "include_colab_link": true
    },
    "kernelspec": {
      "name": "python3",
      "display_name": "Python 3"
    },
    "language_info": {
      "name": "python"
    }
  },
  "cells": [
    {
      "cell_type": "markdown",
      "metadata": {
        "id": "view-in-github",
        "colab_type": "text"
      },
      "source": [
        "<a href=\"https://colab.research.google.com/github/anil-61-omur/c8342-ANIL-python-ODEV/blob/main/fibonacci.ipynb\" target=\"_parent\"><img src=\"https://colab.research.google.com/assets/colab-badge.svg\" alt=\"Open In Colab\"/></a>"
      ]
    },
    {
      "cell_type": "code",
      "metadata": {
        "colab": {
          "base_uri": "https://localhost:8080/"
        },
        "id": "TY_vHkSc_8go",
        "outputId": "bb80411a-031c-48a2-8e48-6cc805cb5a8d"
      },
      "source": [
        "fib_last = int(input(\"fibonacci kaça kadar sıralansın: \"))\n",
        "fibonacci = [] \n",
        "fib_value1 = 0\n",
        "fib_value2 = 1\n",
        "while fib_value2 < fib_last:\n",
        "    fibonacci.append(fib_value2)\n",
        "    x = fib_value2\n",
        "    fib_value2 += fib_value1\n",
        "    fib_value1 = x \n",
        "print(fibonacci)"
      ],
      "execution_count": 2,
      "outputs": [
        {
          "output_type": "stream",
          "text": [
            "fibonacci kaça kadar sıralansın: 56\n",
            "[1, 1, 2, 3, 5, 8, 13, 21, 34, 55]\n"
          ],
          "name": "stdout"
        }
      ]
    },
    {
      "cell_type": "code",
      "metadata": {
        "id": "c0NAYYeIAdV3"
      },
      "source": [
        ""
      ],
      "execution_count": null,
      "outputs": []
    },
    {
      "cell_type": "code",
      "metadata": {
        "id": "T6jOLOxLAdMQ"
      },
      "source": [
        ""
      ],
      "execution_count": 2,
      "outputs": []
    }
  ]
}